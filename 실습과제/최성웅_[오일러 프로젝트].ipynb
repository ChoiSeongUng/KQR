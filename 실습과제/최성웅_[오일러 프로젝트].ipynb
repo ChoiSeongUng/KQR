{
 "cells": [
  {
   "cell_type": "markdown",
   "metadata": {},
   "source": [
    "## KQR 7기_최성웅_오일러 프로젝트 실습 과제"
   ]
  },
  {
   "cell_type": "markdown",
   "metadata": {},
   "source": [
    "### 1.  1000보다 작은 자연수 중에서 3 또는 5의 배수를 모두 더하면?"
   ]
  },
  {
   "cell_type": "code",
   "execution_count": 1,
   "metadata": {},
   "outputs": [],
   "source": [
    "multiples_3 = [i*3 for i in range(350) if i*3 < 1000 and i*3 > 0]\n",
    "multiples_5 = [i*5 for i in range(210) if i*5 < 1000 and i*5 > 0]\n",
    "final_multiples = list(set(multiples_3 + multiples_5))"
   ]
  },
  {
   "cell_type": "code",
   "execution_count": 2,
   "metadata": {},
   "outputs": [
    {
     "data": {
      "text/plain": [
       "233168"
      ]
     },
     "execution_count": 2,
     "metadata": {},
     "output_type": "execute_result"
    }
   ],
   "source": [
    "sum(final_multiples)"
   ]
  },
  {
   "cell_type": "markdown",
   "metadata": {},
   "source": [
    "### 2. 피보나치 수열에서 4백만 이하이면서 짝수인 항의 합"
   ]
  },
  {
   "cell_type": "code",
   "execution_count": 3,
   "metadata": {},
   "outputs": [],
   "source": [
    "from functools import reduce\n",
    "\n",
    "fib_list = [1,2]"
   ]
  },
  {
   "cell_type": "code",
   "execution_count": 4,
   "metadata": {},
   "outputs": [],
   "source": [
    "for _ in range(10000):\n",
    "    fib_val = reduce(lambda x, y: x+y, fib_list[-2:])\n",
    "    \n",
    "    if fib_val > 4000000:\n",
    "        break\n",
    "        \n",
    "    fib_list.append(fib_val)"
   ]
  },
  {
   "cell_type": "code",
   "execution_count": 5,
   "metadata": {},
   "outputs": [],
   "source": [
    "final_fib = [i for i in fib_list if i % 2 == 0]"
   ]
  },
  {
   "cell_type": "code",
   "execution_count": 6,
   "metadata": {},
   "outputs": [
    {
     "data": {
      "text/plain": [
       "4613732"
      ]
     },
     "execution_count": 6,
     "metadata": {},
     "output_type": "execute_result"
    }
   ],
   "source": [
    "sum(final_fib)"
   ]
  },
  {
   "cell_type": "markdown",
   "metadata": {},
   "source": [
    "### 3. 가장 큰 소인수 구하기"
   ]
  },
  {
   "cell_type": "code",
   "execution_count": 7,
   "metadata": {},
   "outputs": [],
   "source": [
    "target_num = 600851475143"
   ]
  },
  {
   "cell_type": "code",
   "execution_count": 8,
   "metadata": {},
   "outputs": [],
   "source": [
    "def factorization(num):\n",
    "    temp_list = []\n",
    "    target = num\n",
    "    denom = 2\n",
    "    \n",
    "    while target != 1:\n",
    "        if target % denom == 0:\n",
    "            temp_list.append(denom)\n",
    "            target = target/denom\n",
    "            \n",
    "        else:\n",
    "            denom +=1\n",
    "            \n",
    "    return temp_list"
   ]
  },
  {
   "cell_type": "code",
   "execution_count": 9,
   "metadata": {},
   "outputs": [
    {
     "data": {
      "text/plain": [
       "[71, 839, 1471, 6857]"
      ]
     },
     "execution_count": 9,
     "metadata": {},
     "output_type": "execute_result"
    }
   ],
   "source": [
    "factorization(target_num)"
   ]
  },
  {
   "cell_type": "markdown",
   "metadata": {},
   "source": [
    "### 4. 세자리 수를 곱해 만들 수 있는 가장 큰 대칭수"
   ]
  },
  {
   "cell_type": "code",
   "execution_count": 10,
   "metadata": {},
   "outputs": [],
   "source": [
    "palindrome_nums = []\n",
    "\n",
    "for i in range(1000, 900, -1):\n",
    "    for j in range(1000, 900, -1):\n",
    "        num = i*j\n",
    "        if str(num) == str(num)[::-1]:\n",
    "            palindrome_nums.append(num)"
   ]
  },
  {
   "cell_type": "code",
   "execution_count": 11,
   "metadata": {},
   "outputs": [
    {
     "data": {
      "text/plain": [
       "906609"
      ]
     },
     "execution_count": 11,
     "metadata": {},
     "output_type": "execute_result"
    }
   ],
   "source": [
    "max(palindrome_nums)"
   ]
  },
  {
   "cell_type": "markdown",
   "metadata": {},
   "source": [
    "### 5. 1 ~ 20 사이의 어떤 수로도 나누어 떨어지는 가장 작은 수"
   ]
  },
  {
   "cell_type": "code",
   "execution_count": 12,
   "metadata": {},
   "outputs": [],
   "source": [
    "def prime_num(num):\n",
    "    for i in range(2, num):\n",
    "        if num % i == 0:\n",
    "            return False\n",
    "        \n",
    "    return True"
   ]
  },
  {
   "cell_type": "code",
   "execution_count": 13,
   "metadata": {},
   "outputs": [
    {
     "name": "stdout",
     "output_type": "stream",
     "text": [
      "232792560\n"
     ]
    }
   ],
   "source": [
    "multip_nums = []\n",
    "for j in [i for i in list(range(2,21)) if prime_num(i)]:\n",
    "    num = 1\n",
    "    while j**num <= 20:\n",
    "        num += 1\n",
    "    \n",
    "    multip_nums.append(j**(num-1))\n",
    "    \n",
    "print(reduce(lambda x, y: x*y, multip_nums))"
   ]
  },
  {
   "cell_type": "code",
   "execution_count": 14,
   "metadata": {},
   "outputs": [
    {
     "data": {
      "text/plain": [
       "[16, 9, 5, 7, 11, 13, 17, 19]"
      ]
     },
     "execution_count": 14,
     "metadata": {},
     "output_type": "execute_result"
    }
   ],
   "source": [
    "multip_nums"
   ]
  },
  {
   "cell_type": "markdown",
   "metadata": {},
   "source": [
    "### 6. 1부터 100까지 \"제곱의 합\"과 \"합의 제곱\"의 차는?"
   ]
  },
  {
   "cell_type": "code",
   "execution_count": 15,
   "metadata": {},
   "outputs": [],
   "source": [
    "num_list = list(range(1, 101))"
   ]
  },
  {
   "cell_type": "code",
   "execution_count": 16,
   "metadata": {},
   "outputs": [
    {
     "data": {
      "text/plain": [
       "25164150"
      ]
     },
     "execution_count": 16,
     "metadata": {},
     "output_type": "execute_result"
    }
   ],
   "source": [
    "(sum(num_list)**2) - sum([i**2 for i in num_list])"
   ]
  },
  {
   "cell_type": "markdown",
   "metadata": {},
   "source": [
    "### 7. 10001번째의 소수"
   ]
  },
  {
   "cell_type": "code",
   "execution_count": 17,
   "metadata": {},
   "outputs": [],
   "source": [
    "def prime_num(num):\n",
    "    for i in range(2, num):\n",
    "        if num % i == 0:\n",
    "            return False\n",
    "        \n",
    "    return True"
   ]
  },
  {
   "cell_type": "code",
   "execution_count": 18,
   "metadata": {},
   "outputs": [],
   "source": [
    "prime_nums = []\n",
    "num = 2\n",
    "\n",
    "while len(prime_nums) != 10001:\n",
    "    if prime_num(num):\n",
    "        prime_nums.append(num)\n",
    "    num += 1"
   ]
  },
  {
   "cell_type": "code",
   "execution_count": 19,
   "metadata": {},
   "outputs": [
    {
     "name": "stdout",
     "output_type": "stream",
     "text": [
      "10001 104743\n"
     ]
    }
   ],
   "source": [
    "print(len(prime_nums), prime_nums[-1])"
   ]
  },
  {
   "cell_type": "markdown",
   "metadata": {},
   "source": [
    "### 8. 1000자리 수 안에서 이어지는 5개 숫자의 곱 중 최댓값은?"
   ]
  },
  {
   "cell_type": "code",
   "execution_count": 20,
   "metadata": {},
   "outputs": [],
   "source": [
    "num_thousand = 7316717653133062491922511967442657474235534919493496983520312774506326239578318016984801869478851843858615607891129494954595017379583319528532088055111254069874715852386305071569329096329522744304355766896648950445244523161731856403098711121722383113622298934233803081353362766142828064444866452387493035890729629049156044077239071381051585930796086670172427121883998797908792274921901699720888093776657273330010533678812202354218097512545405947522435258490771167055601360483958644670632441572215539753697817977846174064955149290862569321978468622482839722413756570560574902614079729686524145351004748216637048440319989000889524345065854122758866688116427171479924442928230863465674813919123162824586178664583591245665294765456828489128831426076900422421902267105562632111110937054421750694165896040807198403850962455444362981230987879927244284909188845801561660979191338754992005240636899125607176060588611646710940507754100225698315520005593572972571636269561882670428252483600823257530420752963450"
   ]
  },
  {
   "cell_type": "code",
   "execution_count": 21,
   "metadata": {},
   "outputs": [],
   "source": [
    "start, end = 0, 5\n",
    "five_nums = []\n",
    "while end != 999:\n",
    "    five_nums.append(str(num_thousand)[start:end])\n",
    "    start += 1\n",
    "    end += 1"
   ]
  },
  {
   "cell_type": "code",
   "execution_count": 22,
   "metadata": {},
   "outputs": [],
   "source": [
    "five_nums = sorted(five_nums, key = lambda s: (s[0], s[1]))[-500:]\n",
    "five_nums = [i for i in five_nums if '0' not in i]\n",
    "five_nums = [i for i in five_nums if '1' not in i]"
   ]
  },
  {
   "cell_type": "code",
   "execution_count": 23,
   "metadata": {},
   "outputs": [],
   "source": [
    "biggest = 0\n",
    "start, end = 0, 5\n",
    "\n",
    "for i in five_nums:\n",
    "    temp = reduce(lambda x, y: int(x)*int(y), i)\n",
    "    \n",
    "    if temp > biggest:\n",
    "        biggest = temp\n",
    "        start += 1\n",
    "        end += 1"
   ]
  },
  {
   "cell_type": "code",
   "execution_count": 24,
   "metadata": {},
   "outputs": [
    {
     "data": {
      "text/plain": [
       "40824"
      ]
     },
     "execution_count": 24,
     "metadata": {},
     "output_type": "execute_result"
    }
   ],
   "source": [
    "biggest"
   ]
  },
  {
   "cell_type": "markdown",
   "metadata": {},
   "source": [
    "### 9. a + b + c = 1000 이 되는 피타고라스 수"
   ]
  },
  {
   "cell_type": "code",
   "execution_count": 25,
   "metadata": {},
   "outputs": [
    {
     "name": "stdout",
     "output_type": "stream",
     "text": [
      "200 375 425 31875000\n",
      "375 200 425 31875000\n"
     ]
    }
   ],
   "source": [
    "for i in range(500):\n",
    "    for j in range(500):\n",
    "        k = 1000-i-j\n",
    "        \n",
    "        if (i**2) + (j**2) == (k**2):\n",
    "            print(i, j, k, i*j*k)"
   ]
  },
  {
   "cell_type": "markdown",
   "metadata": {},
   "source": [
    "### 10. 이백만 이하 소수의 합\n"
   ]
  },
  {
   "cell_type": "code",
   "execution_count": 26,
   "metadata": {},
   "outputs": [],
   "source": [
    "import numpy as np\n",
    "\n",
    "def prime_num(num):\n",
    "    TF_arr = [True for i in range(num+1)]\n",
    "    \n",
    "    for i in range(2, int(np.sqrt(num))):\n",
    "        if TF_arr[i]:\n",
    "            j = 2\n",
    "            while i*j <= num:\n",
    "                TF_arr[i*j] = False\n",
    "                j += 1\n",
    "                \n",
    "    return [i for i in range(2, num) if TF_arr[i] == True]"
   ]
  },
  {
   "cell_type": "code",
   "execution_count": 27,
   "metadata": {},
   "outputs": [
    {
     "data": {
      "text/plain": [
       "142913828922"
      ]
     },
     "execution_count": 27,
     "metadata": {},
     "output_type": "execute_result"
    }
   ],
   "source": [
    "sum(prime_num(2000000))"
   ]
  }
 ],
 "metadata": {
  "kernelspec": {
   "display_name": "Python 3",
   "language": "python",
   "name": "python3"
  },
  "language_info": {
   "codemirror_mode": {
    "name": "ipython",
    "version": 3
   },
   "file_extension": ".py",
   "mimetype": "text/x-python",
   "name": "python",
   "nbconvert_exporter": "python",
   "pygments_lexer": "ipython3",
   "version": "3.7.6"
  }
 },
 "nbformat": 4,
 "nbformat_minor": 4
}
